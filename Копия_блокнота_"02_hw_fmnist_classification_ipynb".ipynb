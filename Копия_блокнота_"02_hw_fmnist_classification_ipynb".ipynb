{
  "cells": [
    {
      "cell_type": "markdown",
      "metadata": {
        "id": "view-in-github",
        "colab_type": "text"
      },
      "source": [
        "<a href=\"https://colab.research.google.com/github/VerbVal/ML_course_yandex/blob/main/%D0%9A%D0%BE%D0%BF%D0%B8%D1%8F_%D0%B1%D0%BB%D0%BE%D0%BA%D0%BD%D0%BE%D1%82%D0%B0_%2202_hw_fmnist_classification_ipynb%22.ipynb\" target=\"_parent\"><img src=\"https://colab.research.google.com/assets/colab-badge.svg\" alt=\"Open In Colab\"/></a>"
      ]
    },
    {
      "cell_type": "markdown",
      "metadata": {
        "id": "nDsVMGiVgSq2"
      },
      "source": [
        "# Домашнее задание №1\n",
        "## Часть2: Классификация FashionMNIST\n",
        "##### Автор: [Радослав Нейчев](https://www.linkedin.com/in/radoslav-neychev/), https://t.me/s/rads_ai\n",
        "\n",
        "В данном задании вам предстоит решить достаточно простую задачу классификации изображений с помощью сверточных нейронных сетей."
      ]
    },
    {
      "cell_type": "code",
      "execution_count": 1,
      "metadata": {
        "id": "3isBRG6PgSq6"
      },
      "outputs": [],
      "source": [
        "# do not change the code in the block below\n",
        "# __________start of block__________\n",
        "import json\n",
        "import os\n",
        "import re\n",
        "\n",
        "import numpy as np\n",
        "import torch\n",
        "import torchvision\n",
        "from IPython.display import clear_output\n",
        "from matplotlib import pyplot as plt\n",
        "from torch import nn\n",
        "from torch.nn import functional as F\n",
        "from torchvision.datasets import FashionMNIST\n",
        "\n",
        "# __________end of block__________"
      ]
    },
    {
      "cell_type": "code",
      "execution_count": 2,
      "metadata": {
        "id": "dnfVN-Fua4dO"
      },
      "outputs": [],
      "source": [
        "# do not change the code in the block below\n",
        "# __________start of block__________\n",
        "def get_predictions(model, eval_data, step=10):\n",
        "\n",
        "    predicted_labels = []\n",
        "    model.eval()\n",
        "    with torch.no_grad():\n",
        "        for idx in range(0, len(eval_data), step):\n",
        "            y_predicted = model(eval_data[idx : idx + step].to(device))\n",
        "            predicted_labels.append(y_predicted.argmax(dim=1).cpu())\n",
        "\n",
        "    predicted_labels = torch.cat(predicted_labels)\n",
        "    predicted_labels = \",\".join([str(x.item()) for x in list(predicted_labels)])\n",
        "    return predicted_labels\n",
        "\n",
        "\n",
        "def get_accuracy(model, data_loader):\n",
        "    predicted_labels = []\n",
        "    real_labels = []\n",
        "    model.eval()\n",
        "    with torch.no_grad():\n",
        "        for batch in data_loader:\n",
        "            y_predicted = model(batch[0].to(device))\n",
        "            predicted_labels.append(y_predicted.argmax(dim=1).cpu())\n",
        "            real_labels.append(batch[1])\n",
        "\n",
        "    predicted_labels = torch.cat(predicted_labels)\n",
        "    real_labels = torch.cat(real_labels)\n",
        "    accuracy_score = (predicted_labels == real_labels).type(torch.FloatTensor).mean()\n",
        "    return accuracy_score\n",
        "\n",
        "\n",
        "# __________end of block__________"
      ]
    },
    {
      "cell_type": "markdown",
      "metadata": {
        "id": "1wABlfqpa4dO"
      },
      "source": [
        "Загрузите файл `hw_overfitting_data_dict.npy` (ссылка есть на странице с заданием), он понадобится для генерации посылок. Код ниже может его загрузить (но в случае возникновения ошибки скачайте и загрузите его вручную).\n"
      ]
    },
    {
      "cell_type": "code",
      "execution_count": 3,
      "metadata": {
        "id": "L9LnbJCza4dP",
        "colab": {
          "base_uri": "https://localhost:8080/"
        },
        "outputId": "13ad2aec-ff39-4ddc-98ad-5832ab85a2fe"
      },
      "outputs": [
        {
          "output_type": "stream",
          "name": "stdout",
          "text": [
            "--2025-09-14 19:17:19--  https://github.com/girafe-ai/ml-course/raw/24f_ysda/homeworks/hw_overfitting/hw_overfitting_data_dict\n",
            "Resolving github.com (github.com)... 140.82.113.3\n",
            "Connecting to github.com (github.com)|140.82.113.3|:443... connected.\n",
            "HTTP request sent, awaiting response... 302 Found\n",
            "Location: https://raw.githubusercontent.com/girafe-ai/ml-course/24f_ysda/homeworks/hw_overfitting/hw_overfitting_data_dict [following]\n",
            "--2025-09-14 19:17:19--  https://raw.githubusercontent.com/girafe-ai/ml-course/24f_ysda/homeworks/hw_overfitting/hw_overfitting_data_dict\n",
            "Resolving raw.githubusercontent.com (raw.githubusercontent.com)... 185.199.108.133, 185.199.111.133, 185.199.109.133, ...\n",
            "Connecting to raw.githubusercontent.com (raw.githubusercontent.com)|185.199.108.133|:443... connected.\n",
            "HTTP request sent, awaiting response... 200 OK\n",
            "Length: 6272446 (6.0M) [application/octet-stream]\n",
            "Saving to: ‘hw_overfitting_data_dict.npy’\n",
            "\n",
            "hw_overfitting_data 100%[===================>]   5.98M  --.-KB/s    in 0.09s   \n",
            "\n",
            "2025-09-14 19:17:19 (69.8 MB/s) - ‘hw_overfitting_data_dict.npy’ saved [6272446/6272446]\n",
            "\n"
          ]
        }
      ],
      "source": [
        "!wget https://github.com/girafe-ai/ml-course/raw/24f_ysda/homeworks/hw_overfitting/hw_overfitting_data_dict -O hw_overfitting_data_dict.npy"
      ]
    },
    {
      "cell_type": "code",
      "execution_count": 4,
      "metadata": {
        "id": "I1gRI_Wka4dP"
      },
      "outputs": [],
      "source": [
        "# do not change the code in the block below\n",
        "# __________start of block__________\n",
        "assert os.path.exists(\n",
        "    \"hw_overfitting_data_dict.npy\"\n",
        "), \"Please, download `hw_overfitting_data_dict.npy` and place it in the working directory\"\n",
        "\n",
        "# __________end of block__________"
      ]
    },
    {
      "cell_type": "markdown",
      "metadata": {
        "id": "zeA6Q5-CgSq7"
      },
      "source": [
        "Вернемся к задаче распознавания простых изображений, рассмотренной ранее. Но теперь будем работать с набором данных [FashionMNIST](https://github.com/zalandoresearch/fashion-mnist). В данном задании воспользуемся всем датасетом целиком.\n",
        "\n",
        "__Ваша первая задача: реализовать весь пайплан обучения модели и добиться качества $\\geq 88.5\\%$ на тестовой выборке.__\n",
        "\n",
        "Код для обучения модели в данном задании отсутствует. Присутствует лишь несколько тестов, которые помогут вам отладить свое решение. За примером можно обратиться к ноутбукам с предыдущих занятий."
      ]
    },
    {
      "cell_type": "code",
      "execution_count": 5,
      "metadata": {
        "id": "qxnqTkHta4dP"
      },
      "outputs": [],
      "source": [
        "CUDA_DEVICE_ID = 0  # change if needed"
      ]
    },
    {
      "cell_type": "code",
      "execution_count": 6,
      "metadata": {
        "id": "nPG1KbQAgl8b"
      },
      "outputs": [],
      "source": [
        "# do not change the code in the block below\n",
        "# __________start of block__________\n",
        "device = (\n",
        "    torch.device(f\"cuda:{CUDA_DEVICE_ID}\") if torch.cuda.is_available() else torch.device(\"cpu\")\n",
        ")\n",
        "# __________end of block__________"
      ]
    },
    {
      "cell_type": "code",
      "execution_count": 7,
      "metadata": {
        "id": "aYcL28OsgSq8",
        "colab": {
          "base_uri": "https://localhost:8080/",
          "height": 543
        },
        "outputId": "ec9d9dc0-02f6-46a5-b07c-d7a6f4b91335"
      },
      "outputs": [
        {
          "output_type": "stream",
          "name": "stderr",
          "text": [
            "100%|██████████| 26.4M/26.4M [00:01<00:00, 17.7MB/s]\n",
            "100%|██████████| 29.5k/29.5k [00:00<00:00, 302kB/s]\n",
            "100%|██████████| 4.42M/4.42M [00:00<00:00, 5.60MB/s]\n",
            "100%|██████████| 5.15k/5.15k [00:00<00:00, 17.3MB/s]\n"
          ]
        },
        {
          "output_type": "execute_result",
          "data": {
            "text/plain": [
              "Text(0.5, 1.0, 'Image label: 1')"
            ]
          },
          "metadata": {},
          "execution_count": 7
        },
        {
          "output_type": "display_data",
          "data": {
            "text/plain": [
              "<Figure size 640x480 with 1 Axes>"
            ],
            "image/png": "[encoded data removed]"
          },
          "metadata": {}
        }
      ],
      "source": [
        "# do not change the code in the block below\n",
        "# __________start of block__________\n",
        "\n",
        "train_fmnist_data = FashionMNIST(\n",
        "    \".\", train=True, transform=torchvision.transforms.ToTensor(), download=True\n",
        ")\n",
        "test_fmnist_data = FashionMNIST(\n",
        "    \".\", train=False, transform=torchvision.transforms.ToTensor(), download=True\n",
        ")\n",
        "\n",
        "\n",
        "train_data_loader = torch.utils.data.DataLoader(\n",
        "    train_fmnist_data, batch_size=32, shuffle=True, num_workers=2\n",
        ")\n",
        "\n",
        "test_data_loader = torch.utils.data.DataLoader(\n",
        "    test_fmnist_data, batch_size=32, shuffle=False, num_workers=2\n",
        ")\n",
        "\n",
        "random_batch = next(iter(train_data_loader))\n",
        "_image, _label = random_batch[0][0], random_batch[1][0]\n",
        "plt.figure()\n",
        "plt.imshow(_image.reshape(28, 28))\n",
        "plt.title(f\"Image label: {_label}\")\n",
        "# __________end of block__________"
      ]
    },
    {
      "cell_type": "markdown",
      "metadata": {
        "id": "S6jWRv1rgSq8"
      },
      "source": [
        "Постройте модель ниже. Пожалуйста, не стройте переусложненную сеть, не стоит делать ее глубже четырех слоев (можно и меньше). Ваша основная задача – обучить модель и получить качество на отложенной (тестовой выборке) не менее 88.5% accuracy.\n",
        "\n",
        "__Внимание, ваша модель должна быть представлена именно переменной `model_task_1`. На вход ей должен приходить тензор размерностью (1, 28, 28).__"
      ]
    },
    {
      "cell_type": "code",
      "execution_count": 8,
      "metadata": {
        "id": "BcyEFX-RgSq8",
        "colab": {
          "base_uri": "https://localhost:8080/"
        },
        "outputId": "9dee4a25-f21c-4d45-d141-4dbbacfae143"
      },
      "outputs": [
        {
          "output_type": "stream",
          "name": "stdout",
          "text": [
            "Test Accuracy: 86.56%\n"
          ]
        }
      ],
      "source": [
        "# Creating model instance\n",
        "model_task_1 = None\n",
        "# your code here\n",
        "class SimpleNN(nn.Module):\n",
        "    def __init__(self):\n",
        "        super(SimpleNN, self).__init__()\n",
        "        self.fc1 = nn.Linear(28 * 28, 128)  # Первый слой\n",
        "        self.fc2 = nn.Linear(128, 64)        # Второй слой\n",
        "        self.fc3 = nn.Linear(64, 32)         # Третий слой\n",
        "        self.fc4 = nn.Linear(32, 10)         # Четвертый слой (выходной)\n",
        "\n",
        "    def forward(self, x):\n",
        "        x = x.view(-1, 28 * 28)  # Преобразование размера входного тензора\n",
        "        x = F.relu(self.fc1(x))  # Применение ReLU активации\n",
        "        x = F.relu(self.fc2(x))\n",
        "        x = F.relu(self.fc3(x))\n",
        "        x = self.fc4(x)          # Выходной слой без активации (логиты)\n",
        "        return x\n",
        "\n",
        "# Создание экземпляра модели и перенос на устройство\n",
        "model_task_1 = SimpleNN().to(device)\n",
        "\n",
        "# Определение функции потерь и оптимизатора\n",
        "criterion = nn.CrossEntropyLoss()\n",
        "optimizer = torch.optim.Adam(model_task_1.parameters(), lr=0.001)\n",
        "\n",
        "# Функция для обучения модели\n",
        "def train_model(model, data_loader, criterion, optimizer, epochs=5):\n",
        "    model.train()\n",
        "    for epoch in range(epochs):\n",
        "        for batch in data_loader:\n",
        "            images, labels = batch[0].to(device), batch[1].to(device)\n",
        "            optimizer.zero_grad()              # Обнуление градиентов\n",
        "            outputs = model(images)            # Прямой проход\n",
        "            loss = criterion(outputs, labels)  # Вычисление потерь\n",
        "            loss.backward()                    # Обратный проход\n",
        "            optimizer.step()                   # Обновление весов\n",
        "\n",
        "# Обучение модели\n",
        "train_model(model_task_1, train_data_loader, criterion, optimizer, epochs=5)\n",
        "\n",
        "# Функция для получения точности модели\n",
        "def get_accuracy(model, data_loader):\n",
        "    model.eval()\n",
        "    correct = 0\n",
        "    total = 0\n",
        "    with torch.no_grad():\n",
        "        for batch in data_loader:\n",
        "            images, labels = batch[0].to(device), batch[1].to(device)\n",
        "            outputs = model(images)\n",
        "            _, predicted = torch.max(outputs.data, 1)\n",
        "            total += labels.size(0)\n",
        "            correct += (predicted == labels).sum().item()\n",
        "    return correct / total\n",
        "\n",
        "# Оценка модели на тестовой выборке\n",
        "test_accuracy = get_accuracy(model_task_1, test_data_loader)\n",
        "print(f'Test Accuracy: {test_accuracy * 100:.2f}%')"
      ]
    },
    {
      "cell_type": "code",
      "source": [
        "# Определение модели с улучшенной архитектурой\n",
        "class ImprovedNN(nn.Module):\n",
        "    def __init__(self):\n",
        "        super(ImprovedNN, self).__init__()\n",
        "        self.fc1 = nn.Linear(28 * 28, 256)  # Увеличение числа нейронов\n",
        "        self.dropout1 = nn.Dropout(0.3)      # Dropout для предотвращения переобучения\n",
        "        self.fc2 = nn.Linear(256, 128)\n",
        "        self.dropout2 = nn.Dropout(0.3)\n",
        "        self.fc3 = nn.Linear(128, 64)\n",
        "        self.fc4 = nn.Linear(64, 10)\n",
        "\n",
        "    def forward(self, x):\n",
        "        x = x.view(-1, 28 * 28)\n",
        "        x = F.relu(self.fc1(x))\n",
        "        x = self.dropout1(x)                # Применение Dropout\n",
        "        x = F.relu(self.fc2(x))\n",
        "        x = self.dropout2(x)                # Применение Dropout\n",
        "        x = F.relu(self.fc3(x))\n",
        "        x = self.fc4(x)\n",
        "        return x\n",
        "\n",
        "# Создание экземпляра модели и перенос на устройство\n",
        "model_task_1 = ImprovedNN().to(device)\n",
        "\n",
        "# Определение функции потерь и оптимизатора с измененным learning rate\n",
        "criterion = nn.CrossEntropyLoss()\n",
        "optimizer = torch.optim.Adam(model_task_1.parameters(), lr=0.0005)  # Уменьшенный learning rate\n",
        "\n",
        "# Функция для обучения модели\n",
        "def train_model(model, data_loader, criterion, optimizer, epochs=10):  # Увеличено количество эпох\n",
        "    model.train()\n",
        "    for epoch in range(epochs):\n",
        "        running_loss = 0.0\n",
        "        for batch in data_loader:\n",
        "            images, labels = batch[0].to(device), batch[1].to(device)\n",
        "            optimizer.zero_grad()\n",
        "            outputs = model(images)\n",
        "            loss = criterion(outputs, labels)\n",
        "            loss.backward()\n",
        "            optimizer.step()\n",
        "            running_loss += loss.item()\n",
        "\n",
        "        print(f'Epoch [{epoch + 1}/{epochs}], Loss: {running_loss / len(data_loader):.4f}')\n",
        "\n",
        "# Обучение модели\n",
        "train_model(model_task_1, train_data_loader, criterion, optimizer, epochs=10)\n",
        "\n",
        "# Функция для получения точности модели\n",
        "def get_accuracy(model, data_loader):\n",
        "    model.eval()\n",
        "    correct = 0\n",
        "    total = 0\n",
        "    with torch.no_grad():\n",
        "        for batch in data_loader:\n",
        "            images, labels = batch[0].to(device), batch[1].to(device)\n",
        "            outputs = model(images)\n",
        "            _, predicted = torch.max(outputs.data, 1)\n",
        "            total += labels.size(0)\n",
        "            correct += (predicted == labels).sum().item()\n",
        "    return correct / total\n",
        "\n",
        "# Оценка модели на тестовой выборке\n",
        "test_accuracy = get_accuracy(model_task_1, test_data_loader)\n",
        "print(f'Test Accuracy: {test_accuracy * 100:.2f}%')"
      ],
      "metadata": {
        "colab": {
          "base_uri": "https://localhost:8080/"
        },
        "id": "WgD1AQwY1cVm",
        "outputId": "d1968c1d-8cc5-4d4f-b3f7-09ed61a132ca"
      },
      "execution_count": 9,
      "outputs": [
        {
          "output_type": "stream",
          "name": "stdout",
          "text": [
            "Epoch [1/10], Loss: 0.6299\n",
            "Epoch [2/10], Loss: 0.4294\n",
            "Epoch [3/10], Loss: 0.3889\n",
            "Epoch [4/10], Loss: 0.3672\n",
            "Epoch [5/10], Loss: 0.3496\n",
            "Epoch [6/10], Loss: 0.3349\n",
            "Epoch [7/10], Loss: 0.3250\n",
            "Epoch [8/10], Loss: 0.3156\n",
            "Epoch [9/10], Loss: 0.3102\n",
            "Epoch [10/10], Loss: 0.2980\n",
            "Test Accuracy: 87.94%\n"
          ]
        }
      ]
    },
    {
      "cell_type": "code",
      "source": [
        "# Определение модели с улучшенной архитектурой\n",
        "class ImprovedNN(nn.Module):\n",
        "    def __init__(self):\n",
        "        super(ImprovedNN, self).__init__()\n",
        "        self.fc1 = nn.Linear(28 * 28, 512)  # Увеличение числа нейронов\n",
        "        self.dropout1 = nn.Dropout(0.3)      # Dropout для предотвращения переобучения\n",
        "        self.fc2 = nn.Linear(512, 256)\n",
        "        self.dropout2 = nn.Dropout(0.3)\n",
        "        self.fc3 = nn.Linear(256, 128)\n",
        "        self.fc4 = nn.Linear(128, 10)\n",
        "\n",
        "    def forward(self, x):\n",
        "        x = x.view(-1, 28 * 28)\n",
        "        x = F.relu(self.fc1(x))\n",
        "        x = self.dropout1(x)                # Применение Dropout\n",
        "        x = F.relu(self.fc2(x))\n",
        "        x = self.dropout2(x)                # Применение Dropout\n",
        "        x = F.relu(self.fc3(x))\n",
        "        x = self.fc4(x)\n",
        "        return x\n",
        "\n",
        "# Создание экземпляра модели и перенос на устройство\n",
        "model_task_1 = ImprovedNN().to(device)\n",
        "\n",
        "# Определение функции потерь и оптимизатора с L2-регуляризацией\n",
        "criterion = nn.CrossEntropyLoss()\n",
        "optimizer = torch.optim.AdamW(model_task_1.parameters(), lr=0.0005, weight_decay=1e-5)  # Добавлена L2-регуляризация\n",
        "\n",
        "# Функция для обучения модели\n",
        "def train_model(model, data_loader, criterion, optimizer, epochs=20):  # Увеличено количество эпох\n",
        "    model.train()\n",
        "    for epoch in range(epochs):\n",
        "        running_loss = 0.0\n",
        "        for batch in data_loader:\n",
        "            images, labels = batch[0].to(device), batch[1].to(device)\n",
        "            optimizer.zero_grad()\n",
        "            outputs = model(images)\n",
        "            loss = criterion(outputs, labels)\n",
        "            loss.backward()\n",
        "            optimizer.step()\n",
        "            running_loss += loss.item()\n",
        "\n",
        "        print(f'Epoch [{epoch + 1}/{epochs}], Loss: {running_loss / len(data_loader):.4f}')\n",
        "\n",
        "# Обучение модели\n",
        "train_model(model_task_1, train_data_loader, criterion, optimizer, epochs=20)\n",
        "\n",
        "# Функция для получения точности модели\n",
        "def get_accuracy(model, data_loader):\n",
        "    model.eval()\n",
        "    correct = 0\n",
        "    total = 0\n",
        "    with torch.no_grad():\n",
        "        for batch in data_loader:\n",
        "            images, labels = batch[0].to(device), batch[1].to(device)\n",
        "            outputs = model(images)\n",
        "            _, predicted = torch.max(outputs.data, 1)\n",
        "            total += labels.size(0)\n",
        "            correct += (predicted == labels).sum().item()\n",
        "    return correct / total\n",
        "\n",
        "# Оценка модели на тестовой выборке\n",
        "test_accuracy = get_accuracy(model_task_1, test_data_loader)\n",
        "print(f'Test Accuracy: {test_accuracy * 100:.2f}%')\n"
      ],
      "metadata": {
        "colab": {
          "base_uri": "https://localhost:8080/"
        },
        "id": "T4hiebpD6Fow",
        "outputId": "fd5e6bfb-9b08-4bf8-af9c-335d6fdc71a0"
      },
      "execution_count": 10,
      "outputs": [
        {
          "output_type": "stream",
          "name": "stdout",
          "text": [
            "Epoch [1/20], Loss: 0.5677\n",
            "Epoch [2/20], Loss: 0.4085\n",
            "Epoch [3/20], Loss: 0.3711\n",
            "Epoch [4/20], Loss: 0.3488\n",
            "Epoch [5/20], Loss: 0.3323\n",
            "Epoch [6/20], Loss: 0.3178\n",
            "Epoch [7/20], Loss: 0.3101\n",
            "Epoch [8/20], Loss: 0.2981\n",
            "Epoch [9/20], Loss: 0.2889\n",
            "Epoch [10/20], Loss: 0.2842\n",
            "Epoch [11/20], Loss: 0.2770\n",
            "Epoch [12/20], Loss: 0.2688\n",
            "Epoch [13/20], Loss: 0.2639\n",
            "Epoch [14/20], Loss: 0.2581\n",
            "Epoch [15/20], Loss: 0.2530\n",
            "Epoch [16/20], Loss: 0.2487\n",
            "Epoch [17/20], Loss: 0.2434\n",
            "Epoch [18/20], Loss: 0.2421\n",
            "Epoch [19/20], Loss: 0.2369\n",
            "Epoch [20/20], Loss: 0.2328\n",
            "Test Accuracy: 89.32%\n"
          ]
        }
      ]
    },
    {
      "cell_type": "markdown",
      "metadata": {
        "id": "bAoLV4dkoy5M"
      },
      "source": [
        "Не забудьте перенести модель на выбранный `device`!"
      ]
    },
    {
      "cell_type": "code",
      "execution_count": 11,
      "metadata": {
        "id": "Xas9SIXDoxvZ",
        "colab": {
          "base_uri": "https://localhost:8080/"
        },
        "outputId": "3c93bc77-c283-4a1b-ca7b-e9d0d5a7f616"
      },
      "outputs": [
        {
          "output_type": "execute_result",
          "data": {
            "text/plain": [
              "ImprovedNN(\n",
              "  (fc1): Linear(in_features=784, out_features=512, bias=True)\n",
              "  (dropout1): Dropout(p=0.3, inplace=False)\n",
              "  (fc2): Linear(in_features=512, out_features=256, bias=True)\n",
              "  (dropout2): Dropout(p=0.3, inplace=False)\n",
              "  (fc3): Linear(in_features=256, out_features=128, bias=True)\n",
              "  (fc4): Linear(in_features=128, out_features=10, bias=True)\n",
              ")"
            ]
          },
          "metadata": {},
          "execution_count": 11
        }
      ],
      "source": [
        "model_task_1.to(device)"
      ]
    },
    {
      "cell_type": "markdown",
      "metadata": {
        "id": "6pLRWysggSq9"
      },
      "source": [
        "Локальные тесты для проверки вашей модели доступны ниже:"
      ]
    },
    {
      "cell_type": "code",
      "execution_count": 12,
      "metadata": {
        "id": "_qMQzo1ggSq9",
        "colab": {
          "base_uri": "https://localhost:8080/"
        },
        "outputId": "21c15184-7628-438e-9e9a-64f07e98f1b5"
      },
      "outputs": [
        {
          "output_type": "stream",
          "name": "stdout",
          "text": [
            "Everything seems fine!\n"
          ]
        }
      ],
      "source": [
        "# do not change the code in the block below\n",
        "# __________start of block__________\n",
        "assert model_task_1 is not None, \"Please, use `model_task_1` variable to store your model\"\n",
        "\n",
        "try:\n",
        "    x = random_batch[0].to(device)\n",
        "    y = random_batch[1].to(device)\n",
        "\n",
        "    # compute outputs given inputs, both are variables\n",
        "    y_predicted = model_task_1(x)\n",
        "except Exception as e:\n",
        "    print(\"Something is wrong with the model\")\n",
        "    raise e\n",
        "\n",
        "\n",
        "assert y_predicted.shape[-1] == 10, \"Model should predict 10 logits/probas\"\n",
        "\n",
        "print(\"Everything seems fine!\")\n",
        "# __________end of block__________"
      ]
    },
    {
      "cell_type": "markdown",
      "metadata": {
        "id": "suRmIPwIgSq9"
      },
      "source": [
        "Настройте параметры модели на обучающей выборке. Также рекомендуем поработать с `learning rate`."
      ]
    },
    {
      "cell_type": "code",
      "execution_count": 13,
      "metadata": {
        "id": "YJnU14bdnZa_",
        "colab": {
          "base_uri": "https://localhost:8080/"
        },
        "outputId": "4c99c67c-f2b8-4bfa-80dd-a6080dc33115"
      },
      "outputs": [
        {
          "output_type": "stream",
          "name": "stdout",
          "text": [
            "Epoch [1/10], Loss: 0.5596\n",
            "Epoch [2/10], Loss: 0.3830\n",
            "Epoch [3/10], Loss: 0.3409\n",
            "Epoch [4/10], Loss: 0.3151\n",
            "Epoch [5/10], Loss: 0.2943\n",
            "Epoch [6/10], Loss: 0.2822\n",
            "Epoch [7/10], Loss: 0.2664\n",
            "Epoch [8/10], Loss: 0.2545\n",
            "Epoch [9/10], Loss: 0.2428\n",
            "Epoch [10/10], Loss: 0.2320\n",
            "Test Accuracy: 88.77%\n"
          ]
        }
      ],
      "source": [
        "# your code here\n",
        "# Определение модели с измененной архитектурой\n",
        "class ImprovedNN(nn.Module):\n",
        "    def __init__(self):\n",
        "        super(ImprovedNN, self).__init__()\n",
        "        self.fc1 = nn.Linear(28 * 28, 256)  # Увеличение числа нейронов\n",
        "        self.fc2 = nn.Linear(256, 128)       # Увеличение числа нейронов\n",
        "        self.fc3 = nn.Linear(128, 64)        # Увеличение числа нейронов\n",
        "        self.fc4 = nn.Linear(64, 10)         # Выходной слой\n",
        "\n",
        "    def forward(self, x):\n",
        "        x = x.view(-1, 28 * 28)  # Преобразование размера входного тензора\n",
        "        x = F.relu(self.fc1(x))  # Применение ReLU активации\n",
        "        x = F.relu(self.fc2(x))\n",
        "        x = F.relu(self.fc3(x))\n",
        "        x = self.fc4(x)          # Выходной слой без активации (логиты)\n",
        "        return x\n",
        "\n",
        "# Создание экземпляра модели и перенос на устройство\n",
        "model_task_2 = ImprovedNN().to(device)\n",
        "\n",
        "# Определение функции потерь и оптимизатора с измененным learning rate\n",
        "learning_rate = 0.0005  # Попробуем меньший learning rate\n",
        "criterion = nn.CrossEntropyLoss()\n",
        "optimizer = torch.optim.Adam(model_task_2.parameters(), lr=learning_rate)\n",
        "\n",
        "# Функция для обучения модели с выводом потерь на каждой эпохе\n",
        "def train_model(model, data_loader, criterion, optimizer, epochs=10):\n",
        "    model.train()\n",
        "    for epoch in range(epochs):\n",
        "        running_loss = 0.0\n",
        "        for batch in data_loader:\n",
        "            images, labels = batch[0].to(device), batch[1].to(device)\n",
        "            optimizer.zero_grad()              # Обнуление градиентов\n",
        "            outputs = model(images)            # Прямой проход\n",
        "            loss = criterion(outputs, labels)  # Вычисление потерь\n",
        "            loss.backward()                    # Обратный проход\n",
        "            optimizer.step()                   # Обновление весов\n",
        "\n",
        "            running_loss += loss.item()\n",
        "\n",
        "        print(f'Epoch [{epoch + 1}/{epochs}], Loss: {running_loss / len(data_loader):.4f}')\n",
        "\n",
        "# Обучение модели\n",
        "train_model(model_task_2, train_data_loader, criterion, optimizer, epochs=10)\n",
        "\n",
        "# Функция для получения точности модели\n",
        "def get_accuracy(model, data_loader):\n",
        "    model.eval()\n",
        "    correct = 0\n",
        "    total = 0\n",
        "    with torch.no_grad():\n",
        "        for batch in data_loader:\n",
        "            images, labels = batch[0].to(device), batch[1].to(device)\n",
        "            outputs = model(images)\n",
        "            _, predicted = torch.max(outputs.data, 1)\n",
        "            total += labels.size(0)\n",
        "            correct += (predicted == labels).sum().item()\n",
        "    return correct / total\n",
        "\n",
        "# Оценка модели на тестовой выборке\n",
        "test_accuracy = get_accuracy(model_task_2, test_data_loader)\n",
        "print(f'Test Accuracy: {test_accuracy * 100:.2f}%')"
      ]
    },
    {
      "cell_type": "code",
      "source": [
        "# Определение модели с улучшенной архитектурой\n",
        "class ImprovedNN(nn.Module):\n",
        "    def __init__(self):\n",
        "        super(ImprovedNN, self).__init__()\n",
        "        self.fc1 = nn.Linear(28 * 28, 512)  # Увеличение числа нейронов\n",
        "        self.dropout1 = nn.Dropout(0.3)      # Dropout для предотвращения переобучения\n",
        "        self.fc2 = nn.Linear(512, 256)\n",
        "        self.dropout2 = nn.Dropout(0.3)\n",
        "        self.fc3 = nn.Linear(256, 128)\n",
        "        self.fc4 = nn.Linear(128, 10)\n",
        "\n",
        "    def forward(self, x):\n",
        "        x = x.view(-1, 28 * 28)\n",
        "        x = F.relu(self.fc1(x))\n",
        "        x = self.dropout1(x)                # Применение Dropout\n",
        "        x = F.relu(self.fc2(x))\n",
        "        x = self.dropout2(x)                # Применение Dropout\n",
        "        x = F.relu(self.fc3(x))\n",
        "        x = self.fc4(x)\n",
        "        return x\n",
        "\n",
        "# Создание экземпляра модели и перенос на устройство\n",
        "model_task_1 = ImprovedNN().to(device)\n",
        "\n",
        "# Определение функции потерь и оптимизатора с L2-регуляризацией\n",
        "criterion = nn.CrossEntropyLoss()\n",
        "initial_lr = 0.001  # Начальный learning rate\n",
        "optimizer = torch.optim.AdamW(model_task_1.parameters(), lr=initial_lr, weight_decay=1e-5)  # Добавлена L2-регуляризация\n",
        "\n",
        "# Использование ReduceLROnPlateau для динамического изменения learning rate\n",
        "scheduler = torch.optim.lr_scheduler.ReduceLROnPlateau(optimizer, factor=0.5, patience=3)\n",
        "\n",
        "# Функция для обучения модели\n",
        "def train_model(model, data_loader, criterion, optimizer, scheduler, epochs=20):  # Увеличено количество эпох\n",
        "    model.train()\n",
        "    for epoch in range(epochs):\n",
        "        running_loss = 0.0\n",
        "        for batch in data_loader:\n",
        "            images, labels = batch[0].to(device), batch[1].to(device)\n",
        "            optimizer.zero_grad()\n",
        "            outputs = model(images)\n",
        "            loss = criterion(outputs, labels)\n",
        "            loss.backward()\n",
        "            optimizer.step()\n",
        "            running_loss += loss.item()\n",
        "\n",
        "        avg_loss = running_loss / len(data_loader)\n",
        "        print(f'Epoch [{epoch + 1}/{epochs}], Loss: {avg_loss:.4f}')\n",
        "\n",
        "        # Обновление learning rate на основе потерь\n",
        "        scheduler.step(avg_loss)\n",
        "\n",
        "# Обучение модели\n",
        "train_model(model_task_1, train_data_loader, criterion, optimizer, scheduler, epochs=20)\n",
        "\n",
        "# Функция для получения точности модели\n",
        "def get_accuracy(model, data_loader):\n",
        "    model.eval()\n",
        "    correct = 0\n",
        "    total = 0\n",
        "    with torch.no_grad():\n",
        "      for batch in data_loader:\n",
        "            images, labels = batch[0].to(device), batch[1].to(device)\n",
        "            outputs = model(images)\n",
        "            _, predicted = torch.max(outputs.data, 1)\n",
        "            total += labels.size(0)\n",
        "            correct += (predicted == labels).sum().item()\n",
        "    return correct / total\n",
        "\n",
        "# Оценка модели на тестовой выборке\n",
        "test_accuracy = get_accuracy(model_task_1, test_data_loader)\n",
        "print(f'Test Accuracy: {test_accuracy * 100:.2f}%')"
      ],
      "metadata": {
        "colab": {
          "base_uri": "https://localhost:8080/"
        },
        "id": "yo5BtARp7-EH",
        "outputId": "e67e2cbf-7d17-4587-f480-53fd51e95c92"
      },
      "execution_count": 24,
      "outputs": [
        {
          "output_type": "stream",
          "name": "stdout",
          "text": [
            "Epoch [1/20], Loss: 0.5626\n",
            "Epoch [2/20], Loss: 0.4158\n",
            "Epoch [3/20], Loss: 0.3879\n",
            "Epoch [4/20], Loss: 0.3643\n",
            "Epoch [5/20], Loss: 0.3491\n",
            "Epoch [6/20], Loss: 0.3375\n",
            "Epoch [7/20], Loss: 0.3288\n",
            "Epoch [8/20], Loss: 0.3208\n",
            "Epoch [9/20], Loss: 0.3132\n",
            "Epoch [10/20], Loss: 0.3066\n",
            "Epoch [11/20], Loss: 0.3008\n",
            "Epoch [12/20], Loss: 0.2963\n",
            "Epoch [13/20], Loss: 0.2901\n",
            "Epoch [14/20], Loss: 0.2879\n",
            "Epoch [15/20], Loss: 0.2841\n",
            "Epoch [16/20], Loss: 0.2786\n",
            "Epoch [17/20], Loss: 0.2751\n",
            "Epoch [18/20], Loss: 0.2725\n",
            "Epoch [19/20], Loss: 0.2673\n",
            "Epoch [20/20], Loss: 0.2650\n",
            "Test Accuracy: 88.36%\n"
          ]
        }
      ]
    },
    {
      "cell_type": "markdown",
      "metadata": {
        "id": "2zce7gt1gSq-"
      },
      "source": [
        "Также, напоминаем, что в любой момент можно обратиться к замечательной [документации](https://pytorch.org/docs/stable/index.html) и [обучающим примерам](https://pytorch.org/tutorials/).  "
      ]
    },
    {
      "cell_type": "markdown",
      "metadata": {
        "id": "usswrWYOgSq-"
      },
      "source": [
        "Оценим качество классификации:"
      ]
    },
    {
      "cell_type": "code",
      "execution_count": 14,
      "metadata": {
        "id": "Xua3TVZHgSq-",
        "colab": {
          "base_uri": "https://localhost:8080/"
        },
        "outputId": "c85bcdc8-3425-4a4e-d828-bec4357d8cd1"
      },
      "outputs": [
        {
          "output_type": "stream",
          "name": "stdout",
          "text": [
            "Neural network accuracy on train set: 0.92815\n"
          ]
        }
      ],
      "source": [
        "train_acc_task_1 = get_accuracy(model_task_1, train_data_loader)\n",
        "print(f\"Neural network accuracy on train set: {train_acc_task_1:3.5}\")"
      ]
    },
    {
      "cell_type": "code",
      "execution_count": 15,
      "metadata": {
        "id": "l9KEKXBxgSq-",
        "colab": {
          "base_uri": "https://localhost:8080/"
        },
        "outputId": "44ea49a0-e466-4c03-98f0-b5e10b811ed2"
      },
      "outputs": [
        {
          "output_type": "stream",
          "name": "stdout",
          "text": [
            "Neural network accuracy on test set: 0.8932\n"
          ]
        }
      ],
      "source": [
        "test_acc_task_1 = get_accuracy(model_task_1, test_data_loader)\n",
        "print(f\"Neural network accuracy on test set: {test_acc_task_1:3.5}\")"
      ]
    },
    {
      "cell_type": "markdown",
      "metadata": {
        "id": "4oyhmMobgSq_"
      },
      "source": [
        "Проверка, что необходимые пороги пройдены:"
      ]
    },
    {
      "cell_type": "code",
      "execution_count": 16,
      "metadata": {
        "id": "OAIrURCEgSq_"
      },
      "outputs": [],
      "source": [
        "assert test_acc_task_1 >= 0.885, \"Train accuracy is below 0.885 threshold\"\n",
        "assert (\n",
        "    train_acc_task_1 >= 0.905\n",
        "), \"Train accuracy is below 0.905 while test accuracy is fine. We recommend to check your model and data flow\""
      ]
    },
    {
      "cell_type": "markdown",
      "metadata": {
        "id": "rjK08of0a4dR"
      },
      "source": [
        "Обращаем внимане, код ниже предполагает, что ваша модель имеет содержится в переменной `model_task_1`, а файл `hw_fmnist_data_dict.npy` находится в той же директории, что и ноутбук (он доступен в репозитории)."
      ]
    },
    {
      "cell_type": "code",
      "execution_count": 17,
      "metadata": {
        "id": "_H3PpguSa4dR",
        "colab": {
          "base_uri": "https://localhost:8080/",
          "height": 219
        },
        "outputId": "6c3416a9-1750-4055-ca24-c35ced000a9e"
      },
      "outputs": [
        {
          "output_type": "error",
          "ename": "AssertionError",
          "evalue": "Please, download `hw_fmnist_data_dict.npy` and place it in the working directory",
          "traceback": [
            "\u001b[0;31m---------------------------------------------------------------------------\u001b[0m",
            "\u001b[0;31mAssertionError\u001b[0m                            Traceback (most recent call last)",
            "\u001b[0;32m/tmp/ipython-input-3382504405.py\u001b[0m in \u001b[0;36m<cell line: 0>\u001b[0;34m()\u001b[0m\n\u001b[1;32m      1\u001b[0m \u001b[0;31m# do not change the code in the block below\u001b[0m\u001b[0;34m\u001b[0m\u001b[0;34m\u001b[0m\u001b[0m\n\u001b[1;32m      2\u001b[0m \u001b[0;31m# __________start of block__________\u001b[0m\u001b[0;34m\u001b[0m\u001b[0;34m\u001b[0m\u001b[0m\n\u001b[0;32m----> 3\u001b[0;31m assert os.path.exists(\n\u001b[0m\u001b[1;32m      4\u001b[0m     \u001b[0;34m\"hw_fmnist_data_dict.npy\"\u001b[0m\u001b[0;34m\u001b[0m\u001b[0;34m\u001b[0m\u001b[0m\n\u001b[1;32m      5\u001b[0m ), \"Please, download `hw_fmnist_data_dict.npy` and place it in the working directory\"\n",
            "\u001b[0;31mAssertionError\u001b[0m: Please, download `hw_fmnist_data_dict.npy` and place it in the working directory"
          ]
        }
      ],
      "source": [
        "# do not change the code in the block below\n",
        "# __________start of block__________\n",
        "assert os.path.exists(\n",
        "    \"hw_fmnist_data_dict.npy\"\n",
        "), \"Please, download `hw_fmnist_data_dict.npy` and place it in the working directory\"\n",
        "\n",
        "loaded_data_dict = np.load(\"hw_fmnist_data_dict.npy\", allow_pickle=True)\n",
        "\n",
        "submission_dict = {\n",
        "    \"train_predictions_task_1\": get_predictions(\n",
        "        model_task_1, torch.FloatTensor(loaded_data_dict.item()[\"train\"])\n",
        "    ),\n",
        "    \"test_predictions_task_1\": get_predictions(\n",
        "        model_task_1, torch.FloatTensor(loaded_data_dict.item()[\"test\"])\n",
        "    ),\n",
        "}\n",
        "\n",
        "with open(\"submission_dict_fmnist_task_1.json\", \"w\") as iofile:\n",
        "    json.dump(submission_dict, iofile)\n",
        "print(\"File saved to `submission_dict_fmnist_task_1.json`\")\n",
        "# __________end of block__________"
      ]
    },
    {
      "cell_type": "markdown",
      "metadata": {
        "id": "SslRRfM1a4dR"
      },
      "source": [
        "### Сдача задания\n",
        "Сдайте сгенерированный файл в соответствующую задачу в соревновании, а именно:\n",
        "    \n",
        "* `submission_dict_fmnist_task_1.json` в задачу Separation"
      ]
    },
    {
      "cell_type": "markdown",
      "metadata": {
        "id": "OtWnYAN_gSrA"
      },
      "source": [
        "На этом задание завершено. Поздравляем!"
      ]
    }
  ],
  "metadata": {
    "accelerator": "GPU",
    "colab": {
      "gpuType": "T4",
      "provenance": [],
      "include_colab_link": true
    },
    "kernelspec": {
      "display_name": "Python 3 (ipykernel)",
      "language": "python",
      "name": "python3"
    },
    "language_info": {
      "codemirror_mode": {
        "name": "ipython",
        "version": 3
      },
      "file_extension": ".py",
      "mimetype": "text/x-python",
      "name": "python",
      "nbconvert_exporter": "python",
      "pygments_lexer": "ipython3",
      "version": "3.8.19"
    },
    "toc": {
      "base_numbering": 1,
      "nav_menu": {},
      "number_sections": true,
      "sideBar": true,
      "skip_h1_title": false,
      "title_cell": "Table of Contents",
      "title_sidebar": "Contents",
      "toc_cell": false,
      "toc_position": {},
      "toc_section_display": true,
      "toc_window_display": false
    },
    "vscode": {
      "interpreter": {
        "hash": "21499ab2a6726e29f7050b76af0e9680227e613293d630ba279de7ebdfad9cae"
      }
    }
  },
  "nbformat": 4,
  "nbformat_minor": 0
}